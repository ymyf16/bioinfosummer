{
 "cells": [
  {
   "cell_type": "code",
   "execution_count": 30,
   "metadata": {},
   "outputs": [],
   "source": [
    "\"\"\"Import packages\"\"\"\n",
    "import numpy as np\n",
    "import pandas as pd\n",
    "import plotly.express as px\n",
    "\n",
    "from alfpy.utils import seqrecords\n",
    "from alfpy.utils import distmatrix\n",
    "from alfpy import ncd\n",
    "from sklearn.manifold import MDS\n",
    "\n",
    "\n",
    "from alfpy import word_pattern\n",
    "from alfpy import word_vector\n",
    "from alfpy import word_distance\n",
    "\n",
    "from alfpy.utils import distmatrix\n"
   ]
  },
  {
   "cell_type": "code",
   "execution_count": 31,
   "metadata": {},
   "outputs": [
    {
     "name": "stdout",
     "output_type": "stream",
     "text": [
      "SeqRecords (noseqs: 13)\n",
      "['sp|P36421|SYYC_YEAST', 'sp|P54577|SYYC_HUMAN', 'sp|Q9M876|SYYM_ARATH', 'sp|Q9Y2Z4|SYYM_HUMAN', 'sp|P48527|SYYM_YEAST', 'sp|P0AGJ9|SYY_ECOLI', 'sp|A7X3G2|SYY_STAA1', 'sp|A9MEH2|SYY_SALAR', 'sp|B5E3A7|SYY_STRP4', 'sp|Q57834|SYY_METJA', 'sp|C4KJ87|SYY_SULIK', 'sp|Q6L2J1|SYY_PICTO', 'sp|Q74MD3|SYY_NANEQ']\n",
      "['MSSAATVDPNEAFGLITKNLQEVLNPQIIKDVLEVQKRHLKLYWGTAPTGRPHCGYFVPMTKLADFLKAGCEVTVLLADLHAFLDNMKAPLEVVNYRAKYYELTIKAILRSINVPIEKLKFVVGSSYQLTPDYTMDIFRLSNIVSQNDAKRAGADVVKQVANPLLSGLIYPLMQALDEQFLDVDCQFGGVDQRKIFVLAEENLPSLGYKKRAHLMNPMVPGLAQGGKMSASDPNSKIDLLEEPKQVKKKINSAFCSPGNVEENGLLSFVQYVIAPIQELKFGTNHFEFFIDRPEKFGGPITYKSFEEMKLAFKEEKLSPPDLKIGVADAINELLEPIRQEFANNKEFQEASEKGYPVATPQKSKKAKKPKNKGTKYPGATKTNEIATKLEETKL', 'MGDAPSPEEKLHLITRNLQEVLGEEKLKEILKERELKIYWGTATTGKPHVAYFVPMSKIADFLKAGCEVTILFADLHAYLDNMKAPWELLELRVSYYENVIKAMLESIGVPLEKLKFIKGTDYQLSKEYTLDVYRLSSVVTQHDSKKAGAEVVKQVEHPLLSGLLYPGLQALDEEYLKVDAQFGGIDQRKIFTFAEKYLPALGYSKRVHLMNPMVPGLTGSKMSSSEEESKIDLLDRKEDVKKKLKKAFCEPGNVENNGVLSFIKHVLFPLKSEFVILRDEKWGGNKTYTAYVDLEKDFAAEVVHPGDLKNSVEVALNKLLDPIREKFNTPALKKLASAAYPDPSKQKPMAKGPAKNSEPEEVIPSRLDIRVGKIITVEKHPDADSLYVEKIDVGEAEPRTVVSGLVQFVPKEELQDRLVVVLCNLKPQKMRGVESQGMLLCASIEGINRQVEPLDPPAGSAPGEHVFVKGYEKGQPDEELKPKKKVFEKLQADFKISEECIAQWKQTNFMTKLGSISCKSLKGGNIS', 'MAYATGITFASRSILPICSRTFLSPLRVASLLVFPEKSSATFFRRVQVPHLFSTSTTTLFSSVKCSIHSTSSPETENQAVFRPNVVDILEERGLLESITSENLRSACSDPKVAPLRVYCGFDPTAESLHLGNLLGIIVLSWFQRCGHQAVGLIGGATGRVGDPSGKSLERPELDADTLEKNIAGITKIIIKILGSNPSPGGSYVIFNNYDWWKDMTMLDFLNKVGRFARVGTMMAKESVKKRLESEQGMSYTEFTYQLLQAYDFLHLFKNEGINVQIGGSDQWGNITAGTDLIRKILQAEEAAYGLTFPLLLKNDGTKFGKSEDGAIWLSPSMLSPYKFYQYFFSVPDVDVIRFLKTLTFLSLDEIKILEDQMSKPGYVPNTAQIKLAEEVTRFVHGEEGLKEAIKATEALRPGAETKLDWNLIERIAEDIPSCSLPIDRVSGLSIVDLSVSAGLFESKSAARRMLKQGGFYMNNERVDDENKRVDEEDIVEGRGLVLSAGKKNKVVVRIS', 'MAAPILRSFSWGRWSGTLNLSVLLPLGLRKAHSGAQGLLAAQKARGLFKDFFPETGTKIELPELFDRGTASFPQTIYCGFDPTADSLHVGHLLALLGLFHLQRAGHNVIALVGGATARLGDPSGRTKEREALETERVRANARALRLGLEALAANHQQLFTDGRSWGSFTVLDNSAWYQKQHLVDFLAAVGGHFRMGTLLSRQSVQLRLKSPEGMSLAEFFYQVLQAYDFYYLFQRYGCRVQLGGSDQLGNIMSGYEFINKLTGEDVFGITVPLITSTTGAKLGKSAGNAVWLNRDKTSPFELYQFFVRQPDDSVERYLKLFTFLPLPEIDHIMQLHVKEPERRGPQKRLAAEVTKLVHGREGLDSAKRCTQALYHSSIDALEVMSDQELKELFKEAPFSEFFLDPGTSVLDTCRKANAIPDGPRGYRMITEGGVSINHQQVTNPESVLIVGQHILKNGLSLLKIGKRNFYIIKWLQL', 'MLELRSCSNLVNSSRRLVPLVTYSGLSAITLPKSRFYSQPSALEVQGTSDSRSDNILDELKQRGLVSQVSQPESFLRTKLNGNDKIKLYCGVDPTAQSLHLGNLVPLMVLLHFYVKGHDIVTVIGGATGKVGDPSGRKTERDVMENDIRQSNVASISQQLQRFFKNGLEYYRNRCALTEDVPSGKYTPRNNFNWWKDIKMLDFLADFGRHIRVQSMLARDSISSRLQTKNGLGFNEFTYQVLQAYDFYHLYKEENVTIQVGGNDQWGNITAGIDLINRIQPIKNKGLPFGITVPLLTTATGEKFGKSAGNAVFIDPSINTAYDVYQFFYNTLDADVPKFLKIFTFLNSSEIKKIVETHIKSPSLRYGQTLLAKEVTDMLYGVGSGSDSEALSNIIFGRYDGTLSAAKLVDLCKKARILQYADREIDLIKLICKLVNCSVSEARRKLSQGSVYLHHSKSKVNENISNLAPFLIDDRVLILRIGKQKCFIIEMR', 'MASSNLIKQLQERGLVAQVTDEEALAERLAQGPIALYCGFDPTADSLHLGHLVPLLCLKRFQQAGHKPVALVGGATGLIGDPSFKAAERKLNTEETVQEWVDKIRKQVAPFLDFDCGENSAIAANNYDWFGNMNVLTFLRDIGKHFSVNQMINKEAVKQRLNREDQGISFTEFSYNLLQGYDFACLNKQYGVVLQIGGSDQWGNITSGIDLTRRLHQNQVFGLTVPLITKADGTKFGKTEGGAVWLDPKKTSPYKFYQFWINTADADVYRFLKFFTFMSIEEINALEEEDKNSGKAPRAQYVLAEQVTRLVHGEEGLQAAKRITECLFSGSLSALSEADFEQLAQDGVPMVEMEKGADLMQALVDSELQPSRGQARKTIASNAITINGEKQSDPEYFFKEEDRLFGRFTLLRRGKKNYCLICWK', 'MTNVLIEDLKWRGLIYQQTDEQGIEDLLNKEQVTLYCGADPTADSLHIGHLLPFLTLRRFQEHGHRPIVLIGGGTGMIGDPSGKSEERVLQTEEQVDKNIEGISKQMHNIFEFGTDHGAVLVNNRDWLGQISLISFLRDYGKHVGVNYMLGKDSIQSRLEHGISYTEFTYTILQAIDFGHLNRELNCKIQVGGSDQWGNITSGIELMRRMYGQTDAYGLTIPLVTKSDGKKFGKSESGAVWLDAEKTSPYEFYQFWINQSDEDVIKFLKYFTFLGKEEIDRLEQSKNEAPHLREAQKTLAEEVTKFIHGEDALNDAIRISQALFSGDLKSLSAKELKDGFKDVPQVTLSNDTTNIVEVLIETGISPSKRQAREDVNNGAIYINGERQQDVNYALAPEDKIDGEFTIIRRGKKKYFMVNYQ', 'MEILMASSNLIKQLQERGLVAQVTDEDALAERLAQGPIALYCGFDPTADSLHLGHLVPLLCLKRFQQAGHKPVALVGGATGLIGDPSFKAAERKLNTEETVQEWVAKIRKQVAPFLDFDCGENSAIAANNYDWFGSMNVLTFLRDIGKHFSVNQMINKEAVKQRLNRDDQGISFTEFSYNLLQGYDFACLNKLHGVALQIGGSDQWGNITSGIDLTRRLHQNQVFGLTVPLITKADGTKFGKTEGGAVWLDPKKTSPYKFYQFWINTADADVYRFLKFFTFMDIEEINALEEEDKNSGKAPRAQYVLAEQVTRLVHGEEGLIAAKRITESLFNGSLGELSEADFEQLAQDGVPMIELEKGTDLMQALVDAELQPSRGQARKTIASNAVTINGEKQSDPEYIFNDEDRLFGRYTLLRRGKKNYCLICWK', 'MHIFDELKERGLIFQTTDEEALRKALEEGQVSYYTGYDPTADSLHLGHLVAILTSRRLQLAGHKPYALVGGATGLIGDPSFKDAERSLQTKDTVDGWVKSIQGQLSRFLDFENGENKAVMVNNYDWFGSISFIDFLRDIGKYFTVNYMMSKESVKKRIETGISYTEFAYQIMQGYDFFVLNQDHNVTLQIGGSDQWGNMTAGTELLRRKADKTGHVITVPLITDATGKKFGKSEGNAVWLNPEKTSPYEMYQFWMNVMDADAVRFLKIFTFLSLDEIEDIRKQFEAAPHERLAQKVLAREVVTLVHGEEAYKEALNITEQLFAGNIKNLSVKELKQGLRGVPNYQVQADENNNIVELLVSSGIVNSKRQAREDVQNGAIYVNGDRIQDLDYVLSDADKLENELTVIRRGKKKYFVLTY', 'MDEFEMIKRNTSEIISEEELREVLKKDEKSAYIGFEPSGKIHLGHYLQIKKMIDLQNAGFDIIILLADLHAYLNQKGELDEIRKIGDYNKKVFEAMGLKAKYVYGSEFQLDKDYTLNVYRLALKTTLKRARRSMELIAREDENPKVAEVIYPIMQVNDIHYLGVDVAVGGMEQRKIHMLARELLPKKVVCIHNPVLTGLDGEGKMSSSKGNFIAVDDSPEEIRAKIKKAYCPAGVVEGNPIMEIAKYFLEYPLTIKRPEKFGGDLTVNSYEELESLFKNKELHPMDLKNAVAEELIKILEPIRKRL', 'MSIDQRLQLITRNAAEIITIDELRKKLESEEKLKGYIGFEPSGLFHIGWLIWTQKVKDLVEAGVNMTLLRATWHAWINDKLGGDLSLIKMAADYTVEVIKNYGVDTTKLNIVDADDMVKEKDYWALVIKVAKNSSLARIKRALTIMGRRAEEAEIDASKLIYPAMQVSDIFYLDLDIALGGTDQRKAHMLARDVAEKMGKKKIVSIHTPLLVGLQGGQRMSITEGMEEDDIQAEIKMSKSKPESAIFVSDSREDVERKIMGAYCPKGVAENNPILQILKYIIFPRYNFVKIERDIRYGGDVEFKDYEELERAYIEGKIHPMDLKKATARRLNEILEPIRKSLERKPEFEEMIQKISKSVTR', 'MDAIDFVKKNTEEIVTMDEAFKALNNNPKGYIGFEPSGNPHLGTCLLLANKINDMVNAGIKMTVLLADWHAMVNDKLNGDLNEIRKSGELFKRAWLAAGLNSNVKFVWASELVEKSDYWSLLLKVAKNASLLRIRRSLPIMGRSEEDADRDFSKYIYPLMQVTDIFYLDVDFALGGMDQRHAHMLARDIAERMNIKKPVSVHTPLLSSLKGSGRMDSFKKMSKSEPDSAIFMTDSNDDIKRKIKNAYCPMKEVNGNPVIDILKYIIFPYYNDKISIKRPESKGGPVDVDMDSLTRMYISGEIHPVDLKNAVGELLCDIIGPVREKLTGD', 'MDIEERINLIAQKPTEEILTIDRLKQYLEQGIDLNHYIGFEISGFVHLGTGIISMLKVRDFQKAKVKTTLFLADYHSWINKKLGGDLETIRKVAKGYFAEALKVSLKTVGGDPDEVKVVLGSELYEKLGIEYLENIIKISMNTTLNRIKKGITIMGRKQGESISFAQLLYVPMQVADIYSLNVNLAHGGIDQRKAHVIAIEVSDAFGYKPIAVHHHLLLGMHIDENIRQKLLEAKKTNNRELFEDSVIDIKMSKSKPETAIFIHDTPEDIRRKIRKAYCPIGEIELNPIIELVEYVIYPILKEPIVIENKKTHQTMEFDNVEQLKEAYAKKQIHPLDLKEYVAEKLIEILEPARKYFLEGKGNKYLEELKNLQITR']\n"
     ]
    },
    {
     "data": {
      "text/plain": [
       "13"
      ]
     },
     "execution_count": 31,
     "metadata": {},
     "output_type": "execute_result"
    }
   ],
   "source": [
    "\"\"\"Read sequences from FASTA file.\n",
    "Will return number of sequences recorded\"\"\"\n",
    "\n",
    "file = open('collection.fasta')\n",
    "seq_records = seqrecords.read_fasta(file)\n",
    "file.close()\n",
    "print(seq_records)\n",
    "\n",
    "\n",
    "\"\"\"Attributes: id_list; seq_list; length_list; count\"\"\"\n",
    "print(seq_records.id_list)\n",
    "print(seq_records.seq_list)\n",
    "seq_records.count\n",
    "\n",
    "\n",
    "#print(seq_records.fasta())\n"
   ]
  },
  {
   "cell_type": "code",
   "execution_count": 32,
   "metadata": {},
   "outputs": [
    {
     "data": {
      "text/plain": [
       "<alfpy.ncd.Distance at 0x7ffdc9f72a90>"
      ]
     },
     "execution_count": 32,
     "metadata": {},
     "output_type": "execute_result"
    }
   ],
   "source": [
    "\"\"\"Calculate Normalized Compression Distance (NCD)\"\"\"\n",
    "dist = ncd.Distance(seq_records)\n",
    "\n",
    "dist"
   ]
  },
  {
   "cell_type": "code",
   "execution_count": 33,
   "metadata": {},
   "outputs": [
    {
     "name": "stdout",
     "output_type": "stream",
     "text": [
      "   13\n",
      "sp|P36421| 0.0000000 0.8857143 0.9281046 0.9238754 0.9421769 0.9189189 0.9027237 0.9272031 0.9209486 0.9000000 0.9125000 0.8875000 0.9000000\n",
      "sp|P54577| 0.8857143 0.0000000 0.9428571 0.9333333 0.9460317 0.9396825 0.9301587 0.9460317 0.9396825 0.9333333 0.9492063 0.9238095 0.9428571\n",
      "sp|Q9M876| 0.9281046 0.9428571 0.0000000 0.9248366 0.9117647 0.9019608 0.9150327 0.8986928 0.9117647 0.9281046 0.9281046 0.9248366 0.9215686\n",
      "sp|Q9Y2Z4| 0.9238754 0.9333333 0.9248366 0.0000000 0.9115646 0.9031142 0.9134948 0.9065744 0.9134948 0.9238754 0.9238754 0.9134948 0.9204152\n",
      "sp|P48527| 0.9421769 0.9460317 0.9117647 0.9115646 0.0000000 0.9285714 0.9115646 0.9217687 0.9285714 0.9319728 0.9319728 0.9353741 0.9285714\n",
      "sp|P0AGJ9| 0.9189189 0.9396825 0.9019608 0.9031142 0.9285714 0.0000000 0.8803089 0.2490421 0.8378378 0.9150579 0.9227799 0.9073359 0.9189189\n",
      "sp|A7X3G2| 0.9027237 0.9301587 0.9150327 0.9134948 0.9115646 0.8803089 0.0000000 0.8812261 0.8521401 0.9105058 0.9027237 0.8949416 0.8988327\n",
      "sp|A9MEH2| 0.9272031 0.9460317 0.8986928 0.9065744 0.9217687 0.2490421 0.8812261 0.0000000 0.8429119 0.9195402 0.9233716 0.9080460 0.9195402\n",
      "sp|B5E3A7| 0.9209486 0.9396825 0.9117647 0.9134948 0.9285714 0.8378378 0.8521401 0.8429119 0.0000000 0.9130435 0.9130435 0.9090909 0.9169960\n",
      "sp|Q57834| 0.9000000 0.9333333 0.9281046 0.9238754 0.9319728 0.9150579 0.9105058 0.9195402 0.9130435 0.0000000 0.9000000 0.8878049 0.8956522\n",
      "sp|C4KJ87| 0.9125000 0.9492063 0.9281046 0.9238754 0.9319728 0.9227799 0.9027237 0.9233716 0.9130435 0.9000000 0.0000000 0.8727273 0.8869565\n",
      "sp|Q6L2J1| 0.8875000 0.9238095 0.9248366 0.9134948 0.9353741 0.9073359 0.8949416 0.9080460 0.9090909 0.8878049 0.8727273 0.0000000 0.8913043\n",
      "sp|Q74MD3| 0.9000000 0.9428571 0.9215686 0.9204152 0.9285714 0.9189189 0.8988327 0.9195402 0.9169960 0.8956522 0.8869565 0.8913043 0.0000000\n",
      "sp|P36421|SYYC_YEAST\tsp|P54577|SYYC_HUMAN\t0.8857143\n",
      "sp|P36421|SYYC_YEAST\tsp|Q9M876|SYYM_ARATH\t0.9281046\n",
      "sp|P36421|SYYC_YEAST\tsp|Q9Y2Z4|SYYM_HUMAN\t0.9238754\n",
      "sp|P36421|SYYC_YEAST\tsp|P48527|SYYM_YEAST\t0.9421769\n",
      "sp|P36421|SYYC_YEAST\tsp|P0AGJ9|SYY_ECOLI\t0.9189189\n",
      "sp|P36421|SYYC_YEAST\tsp|A7X3G2|SYY_STAA1\t0.9027237\n",
      "sp|P36421|SYYC_YEAST\tsp|A9MEH2|SYY_SALAR\t0.9272031\n",
      "sp|P36421|SYYC_YEAST\tsp|B5E3A7|SYY_STRP4\t0.9209486\n",
      "sp|P36421|SYYC_YEAST\tsp|Q57834|SYY_METJA\t0.9000000\n",
      "sp|P36421|SYYC_YEAST\tsp|C4KJ87|SYY_SULIK\t0.9125000\n",
      "sp|P36421|SYYC_YEAST\tsp|Q6L2J1|SYY_PICTO\t0.8875000\n",
      "sp|P36421|SYYC_YEAST\tsp|Q74MD3|SYY_NANEQ\t0.9000000\n",
      "sp|P54577|SYYC_HUMAN\tsp|Q9M876|SYYM_ARATH\t0.9428571\n",
      "sp|P54577|SYYC_HUMAN\tsp|Q9Y2Z4|SYYM_HUMAN\t0.9333333\n",
      "sp|P54577|SYYC_HUMAN\tsp|P48527|SYYM_YEAST\t0.9460317\n",
      "sp|P54577|SYYC_HUMAN\tsp|P0AGJ9|SYY_ECOLI\t0.9396825\n",
      "sp|P54577|SYYC_HUMAN\tsp|A7X3G2|SYY_STAA1\t0.9301587\n",
      "sp|P54577|SYYC_HUMAN\tsp|A9MEH2|SYY_SALAR\t0.9460317\n",
      "sp|P54577|SYYC_HUMAN\tsp|B5E3A7|SYY_STRP4\t0.9396825\n",
      "sp|P54577|SYYC_HUMAN\tsp|Q57834|SYY_METJA\t0.9333333\n",
      "sp|P54577|SYYC_HUMAN\tsp|C4KJ87|SYY_SULIK\t0.9492063\n",
      "sp|P54577|SYYC_HUMAN\tsp|Q6L2J1|SYY_PICTO\t0.9238095\n",
      "sp|P54577|SYYC_HUMAN\tsp|Q74MD3|SYY_NANEQ\t0.9428571\n",
      "sp|Q9M876|SYYM_ARATH\tsp|Q9Y2Z4|SYYM_HUMAN\t0.9248366\n",
      "sp|Q9M876|SYYM_ARATH\tsp|P48527|SYYM_YEAST\t0.9117647\n",
      "sp|Q9M876|SYYM_ARATH\tsp|P0AGJ9|SYY_ECOLI\t0.9019608\n",
      "sp|Q9M876|SYYM_ARATH\tsp|A7X3G2|SYY_STAA1\t0.9150327\n",
      "sp|Q9M876|SYYM_ARATH\tsp|A9MEH2|SYY_SALAR\t0.8986928\n",
      "sp|Q9M876|SYYM_ARATH\tsp|B5E3A7|SYY_STRP4\t0.9117647\n",
      "sp|Q9M876|SYYM_ARATH\tsp|Q57834|SYY_METJA\t0.9281046\n",
      "sp|Q9M876|SYYM_ARATH\tsp|C4KJ87|SYY_SULIK\t0.9281046\n",
      "sp|Q9M876|SYYM_ARATH\tsp|Q6L2J1|SYY_PICTO\t0.9248366\n",
      "sp|Q9M876|SYYM_ARATH\tsp|Q74MD3|SYY_NANEQ\t0.9215686\n",
      "sp|Q9Y2Z4|SYYM_HUMAN\tsp|P48527|SYYM_YEAST\t0.9115646\n",
      "sp|Q9Y2Z4|SYYM_HUMAN\tsp|P0AGJ9|SYY_ECOLI\t0.9031142\n",
      "sp|Q9Y2Z4|SYYM_HUMAN\tsp|A7X3G2|SYY_STAA1\t0.9134948\n",
      "sp|Q9Y2Z4|SYYM_HUMAN\tsp|A9MEH2|SYY_SALAR\t0.9065744\n",
      "sp|Q9Y2Z4|SYYM_HUMAN\tsp|B5E3A7|SYY_STRP4\t0.9134948\n",
      "sp|Q9Y2Z4|SYYM_HUMAN\tsp|Q57834|SYY_METJA\t0.9238754\n",
      "sp|Q9Y2Z4|SYYM_HUMAN\tsp|C4KJ87|SYY_SULIK\t0.9238754\n",
      "sp|Q9Y2Z4|SYYM_HUMAN\tsp|Q6L2J1|SYY_PICTO\t0.9134948\n",
      "sp|Q9Y2Z4|SYYM_HUMAN\tsp|Q74MD3|SYY_NANEQ\t0.9204152\n",
      "sp|P48527|SYYM_YEAST\tsp|P0AGJ9|SYY_ECOLI\t0.9285714\n",
      "sp|P48527|SYYM_YEAST\tsp|A7X3G2|SYY_STAA1\t0.9115646\n",
      "sp|P48527|SYYM_YEAST\tsp|A9MEH2|SYY_SALAR\t0.9217687\n",
      "sp|P48527|SYYM_YEAST\tsp|B5E3A7|SYY_STRP4\t0.9285714\n",
      "sp|P48527|SYYM_YEAST\tsp|Q57834|SYY_METJA\t0.9319728\n",
      "sp|P48527|SYYM_YEAST\tsp|C4KJ87|SYY_SULIK\t0.9319728\n",
      "sp|P48527|SYYM_YEAST\tsp|Q6L2J1|SYY_PICTO\t0.9353741\n",
      "sp|P48527|SYYM_YEAST\tsp|Q74MD3|SYY_NANEQ\t0.9285714\n",
      "sp|P0AGJ9|SYY_ECOLI\tsp|A7X3G2|SYY_STAA1\t0.8803089\n",
      "sp|P0AGJ9|SYY_ECOLI\tsp|A9MEH2|SYY_SALAR\t0.2490421\n",
      "sp|P0AGJ9|SYY_ECOLI\tsp|B5E3A7|SYY_STRP4\t0.8378378\n",
      "sp|P0AGJ9|SYY_ECOLI\tsp|Q57834|SYY_METJA\t0.9150579\n",
      "sp|P0AGJ9|SYY_ECOLI\tsp|C4KJ87|SYY_SULIK\t0.9227799\n",
      "sp|P0AGJ9|SYY_ECOLI\tsp|Q6L2J1|SYY_PICTO\t0.9073359\n",
      "sp|P0AGJ9|SYY_ECOLI\tsp|Q74MD3|SYY_NANEQ\t0.9189189\n",
      "sp|A7X3G2|SYY_STAA1\tsp|A9MEH2|SYY_SALAR\t0.8812261\n",
      "sp|A7X3G2|SYY_STAA1\tsp|B5E3A7|SYY_STRP4\t0.8521401\n",
      "sp|A7X3G2|SYY_STAA1\tsp|Q57834|SYY_METJA\t0.9105058\n",
      "sp|A7X3G2|SYY_STAA1\tsp|C4KJ87|SYY_SULIK\t0.9027237\n",
      "sp|A7X3G2|SYY_STAA1\tsp|Q6L2J1|SYY_PICTO\t0.8949416\n",
      "sp|A7X3G2|SYY_STAA1\tsp|Q74MD3|SYY_NANEQ\t0.8988327\n",
      "sp|A9MEH2|SYY_SALAR\tsp|B5E3A7|SYY_STRP4\t0.8429119\n",
      "sp|A9MEH2|SYY_SALAR\tsp|Q57834|SYY_METJA\t0.9195402\n",
      "sp|A9MEH2|SYY_SALAR\tsp|C4KJ87|SYY_SULIK\t0.9233716\n",
      "sp|A9MEH2|SYY_SALAR\tsp|Q6L2J1|SYY_PICTO\t0.9080460\n",
      "sp|A9MEH2|SYY_SALAR\tsp|Q74MD3|SYY_NANEQ\t0.9195402\n",
      "sp|B5E3A7|SYY_STRP4\tsp|Q57834|SYY_METJA\t0.9130435\n",
      "sp|B5E3A7|SYY_STRP4\tsp|C4KJ87|SYY_SULIK\t0.9130435\n",
      "sp|B5E3A7|SYY_STRP4\tsp|Q6L2J1|SYY_PICTO\t0.9090909\n",
      "sp|B5E3A7|SYY_STRP4\tsp|Q74MD3|SYY_NANEQ\t0.9169960\n",
      "sp|Q57834|SYY_METJA\tsp|C4KJ87|SYY_SULIK\t0.9000000\n",
      "sp|Q57834|SYY_METJA\tsp|Q6L2J1|SYY_PICTO\t0.8878049\n",
      "sp|Q57834|SYY_METJA\tsp|Q74MD3|SYY_NANEQ\t0.8956522\n",
      "sp|C4KJ87|SYY_SULIK\tsp|Q6L2J1|SYY_PICTO\t0.8727273\n",
      "sp|C4KJ87|SYY_SULIK\tsp|Q74MD3|SYY_NANEQ\t0.8869565\n",
      "sp|Q6L2J1|SYY_PICTO\tsp|Q74MD3|SYY_NANEQ\t0.8913043\n"
     ]
    }
   ],
   "source": [
    "matrix = distmatrix.create(seq_records.id_list, dist)\n",
    "matrix.display()\n",
    "\n",
    "matrix.display('pairwise')\n",
    "\n",
    "#matrix.display('pairwise')\n",
    "#dist.pairwise_distance(0, 1)"
   ]
  },
  {
   "cell_type": "code",
   "execution_count": 49,
   "metadata": {},
   "outputs": [
    {
     "name": "stdout",
     "output_type": "stream",
     "text": [
      "   13\n",
      "sp|P36421| 0.0000000 28.0713377 30.9677251 31.4483704 30.0998339 27.9642629 31.4324673 27.9284801 27.8567766 26.6082694 26.7020598 27.6947648 28.4956137\n",
      "sp|P54577| 28.0713377 0.0000000 34.4528664 36.7831483 34.9284984 35.1283361 37.2290209 35.2703842 33.9411255 32.4653662 31.5436206 34.9428104 31.8119474\n",
      "sp|Q9M876| 30.9677251 34.4528664 0.0000000 30.3973683 28.4780617 30.0166620 32.0468407 30.1164407 29.1719043 33.0907842 31.3049517 33.7638860 33.8673884\n",
      "sp|Q9Y2Z4| 31.4483704 36.7831483 30.3973683 0.0000000 30.3479818 28.0535203 31.7017350 27.8747197 28.6530976 33.0605505 31.8433667 32.7414111 33.9263909\n",
      "sp|P48527| 30.0998339 34.9284984 28.4780617 30.3479818 0.0000000 27.4590604 28.0713377 27.0185122 26.6458252 31.8747549 29.5803989 30.8706981 32.5269119\n",
      "sp|P0AGJ9| 27.9642629 35.1283361 30.0166620 28.0535203 27.4590604 0.0000000 25.9615100 9.4868330 22.7596134 29.3938769 29.0344623 30.3479818 31.2089731\n",
      "sp|A7X3G2| 31.4324673 37.2290209 32.0468407 31.7017350 28.0713377 25.9615100 0.0000000 25.5342907 22.9782506 29.7993289 29.7153159 30.6104557 30.2324329\n",
      "sp|A9MEH2| 27.9284801 35.2703842 30.1164407 27.8747197 27.0185122 9.4868330 25.5342907 0.0000000 22.5388553 28.2842712 27.9463772 29.3768616 29.5972972\n",
      "sp|B5E3A7| 27.8567766 33.9411255 29.1719043 28.6530976 26.6458252 22.7596134 22.9782506 22.5388553 0.0000000 27.6043475 27.2213152 28.5131549 28.4253408\n",
      "sp|Q57834| 26.6082694 32.4653662 33.0907842 33.0605505 31.8747549 29.3938769 29.7993289 28.2842712 27.6043475 0.0000000 21.9772610 23.4307490 23.9165215\n",
      "sp|C4KJ87| 26.7020598 31.5436206 31.3049517 31.8433667 29.5803989 29.0344623 29.7153159 27.9463772 27.2213152 21.9772610 0.0000000 23.7065392 24.8797106\n",
      "sp|Q6L2J1| 27.6947648 34.9428104 33.7638860 32.7414111 30.8706981 30.3479818 30.6104557 29.3768616 28.5131549 23.4307490 23.7065392 0.0000000 28.3019434\n",
      "sp|Q74MD3| 28.4956137 31.8119474 33.8673884 33.9263909 32.5269119 31.2089731 30.2324329 29.5972972 28.4253408 23.9165215 24.8797106 28.3019434 0.0000000\n"
     ]
    }
   ],
   "source": [
    "\"\"\"Calculate Euclidean distance bewteen word counts\"\"\"\n",
    "\n",
    "pattern = word_pattern.create(seq_records.seq_list, word_size=2)\n",
    "counts = word_vector.Counts(seq_records.length_list, pattern)\n",
    "dist = word_distance.Distance(counts, 'euclid_norm')\n",
    "euc_matrix = distmatrix.create(seq_records.id_list, dist)\n",
    "euc_matrix.display()\n"
   ]
  },
  {
   "cell_type": "code",
   "execution_count": 51,
   "metadata": {},
   "outputs": [
    {
     "name": "stdout",
     "output_type": "stream",
     "text": [
      "   13\n",
      "sp|P36421| 0.0000000 28.0713377 30.9677251 31.4483704 30.0998339 27.9642629 31.4324673 27.9284801 27.8567766 26.6082694 26.7020598 27.6947648 28.4956137\n",
      "sp|P54577| 28.0713377 0.0000000 34.4528664 36.7831483 34.9284984 35.1283361 37.2290209 35.2703842 33.9411255 32.4653662 31.5436206 34.9428104 31.8119474\n",
      "sp|Q9M876| 30.9677251 34.4528664 0.0000000 30.3973683 28.4780617 30.0166620 32.0468407 30.1164407 29.1719043 33.0907842 31.3049517 33.7638860 33.8673884\n",
      "sp|Q9Y2Z4| 31.4483704 36.7831483 30.3973683 0.0000000 30.3479818 28.0535203 31.7017350 27.8747197 28.6530976 33.0605505 31.8433667 32.7414111 33.9263909\n",
      "sp|P48527| 30.0998339 34.9284984 28.4780617 30.3479818 0.0000000 27.4590604 28.0713377 27.0185122 26.6458252 31.8747549 29.5803989 30.8706981 32.5269119\n",
      "sp|P0AGJ9| 27.9642629 35.1283361 30.0166620 28.0535203 27.4590604 0.0000000 25.9615100 9.4868330 22.7596134 29.3938769 29.0344623 30.3479818 31.2089731\n",
      "sp|A7X3G2| 31.4324673 37.2290209 32.0468407 31.7017350 28.0713377 25.9615100 0.0000000 25.5342907 22.9782506 29.7993289 29.7153159 30.6104557 30.2324329\n",
      "sp|A9MEH2| 27.9284801 35.2703842 30.1164407 27.8747197 27.0185122 9.4868330 25.5342907 0.0000000 22.5388553 28.2842712 27.9463772 29.3768616 29.5972972\n",
      "sp|B5E3A7| 27.8567766 33.9411255 29.1719043 28.6530976 26.6458252 22.7596134 22.9782506 22.5388553 0.0000000 27.6043475 27.2213152 28.5131549 28.4253408\n",
      "sp|Q57834| 26.6082694 32.4653662 33.0907842 33.0605505 31.8747549 29.3938769 29.7993289 28.2842712 27.6043475 0.0000000 21.9772610 23.4307490 23.9165215\n",
      "sp|C4KJ87| 26.7020598 31.5436206 31.3049517 31.8433667 29.5803989 29.0344623 29.7153159 27.9463772 27.2213152 21.9772610 0.0000000 23.7065392 24.8797106\n",
      "sp|Q6L2J1| 27.6947648 34.9428104 33.7638860 32.7414111 30.8706981 30.3479818 30.6104557 29.3768616 28.5131549 23.4307490 23.7065392 0.0000000 28.3019434\n",
      "sp|Q74MD3| 28.4956137 31.8119474 33.8673884 33.9263909 32.5269119 31.2089731 30.2324329 29.5972972 28.4253408 23.9165215 24.8797106 28.3019434 0.0000000\n"
     ]
    },
    {
     "data": {
      "text/plain": [
       "0"
      ]
     },
     "execution_count": 51,
     "metadata": {},
     "output_type": "execute_result"
    }
   ],
   "source": [
    "\"\"\"Convert the Euclidean distance matrix into usable pandas format\"\"\"\n",
    "\n",
    "a = euc_matrix.display()\n",
    "\n",
    "# Create memory string\n",
    "import io\n",
    "a = io.StringIO()\n",
    "\n",
    "# Write phylip format of matrix output into the memory\n",
    "matrix.writer(a, 'phylip', 7)\n",
    "\n",
    "# Get the written string\n",
    "a.seek(0)\n",
    "#a.read() # Test if it works\n"
   ]
  },
  {
   "cell_type": "code",
   "execution_count": 52,
   "metadata": {},
   "outputs": [
    {
     "data": {
      "text/html": [
       "<div>\n",
       "<style scoped>\n",
       "    .dataframe tbody tr th:only-of-type {\n",
       "        vertical-align: middle;\n",
       "    }\n",
       "\n",
       "    .dataframe tbody tr th {\n",
       "        vertical-align: top;\n",
       "    }\n",
       "\n",
       "    .dataframe thead th {\n",
       "        text-align: right;\n",
       "    }\n",
       "</style>\n",
       "<table border=\"1\" class=\"dataframe\">\n",
       "  <thead>\n",
       "    <tr style=\"text-align: right;\">\n",
       "      <th></th>\n",
       "      <th>sp|P36421|</th>\n",
       "      <th>sp|P54577|</th>\n",
       "      <th>sp|Q9M876|</th>\n",
       "      <th>sp|Q9Y2Z4|</th>\n",
       "      <th>sp|P48527|</th>\n",
       "      <th>sp|P0AGJ9|</th>\n",
       "      <th>sp|A7X3G2|</th>\n",
       "      <th>sp|A9MEH2|</th>\n",
       "      <th>sp|B5E3A7|</th>\n",
       "      <th>sp|Q57834|</th>\n",
       "      <th>sp|C4KJ87|</th>\n",
       "      <th>sp|Q6L2J1|</th>\n",
       "      <th>sp|Q74MD3|</th>\n",
       "    </tr>\n",
       "  </thead>\n",
       "  <tbody>\n",
       "    <tr>\n",
       "      <th>sp|P36421|</th>\n",
       "      <td>0.000000</td>\n",
       "      <td>0.885714</td>\n",
       "      <td>0.928105</td>\n",
       "      <td>0.923875</td>\n",
       "      <td>0.942177</td>\n",
       "      <td>0.918919</td>\n",
       "      <td>0.902724</td>\n",
       "      <td>0.927203</td>\n",
       "      <td>0.920949</td>\n",
       "      <td>0.900000</td>\n",
       "      <td>0.912500</td>\n",
       "      <td>0.887500</td>\n",
       "      <td>0.900000</td>\n",
       "    </tr>\n",
       "    <tr>\n",
       "      <th>sp|P54577|</th>\n",
       "      <td>0.885714</td>\n",
       "      <td>0.000000</td>\n",
       "      <td>0.942857</td>\n",
       "      <td>0.933333</td>\n",
       "      <td>0.946032</td>\n",
       "      <td>0.939682</td>\n",
       "      <td>0.930159</td>\n",
       "      <td>0.946032</td>\n",
       "      <td>0.939682</td>\n",
       "      <td>0.933333</td>\n",
       "      <td>0.949206</td>\n",
       "      <td>0.923809</td>\n",
       "      <td>0.942857</td>\n",
       "    </tr>\n",
       "    <tr>\n",
       "      <th>sp|Q9M876|</th>\n",
       "      <td>0.928105</td>\n",
       "      <td>0.942857</td>\n",
       "      <td>0.000000</td>\n",
       "      <td>0.924837</td>\n",
       "      <td>0.911765</td>\n",
       "      <td>0.901961</td>\n",
       "      <td>0.915033</td>\n",
       "      <td>0.898693</td>\n",
       "      <td>0.911765</td>\n",
       "      <td>0.928105</td>\n",
       "      <td>0.928105</td>\n",
       "      <td>0.924837</td>\n",
       "      <td>0.921569</td>\n",
       "    </tr>\n",
       "    <tr>\n",
       "      <th>sp|Q9Y2Z4|</th>\n",
       "      <td>0.923875</td>\n",
       "      <td>0.933333</td>\n",
       "      <td>0.924837</td>\n",
       "      <td>0.000000</td>\n",
       "      <td>0.911565</td>\n",
       "      <td>0.903114</td>\n",
       "      <td>0.913495</td>\n",
       "      <td>0.906574</td>\n",
       "      <td>0.913495</td>\n",
       "      <td>0.923875</td>\n",
       "      <td>0.923875</td>\n",
       "      <td>0.913495</td>\n",
       "      <td>0.920415</td>\n",
       "    </tr>\n",
       "    <tr>\n",
       "      <th>sp|P48527|</th>\n",
       "      <td>0.942177</td>\n",
       "      <td>0.946032</td>\n",
       "      <td>0.911765</td>\n",
       "      <td>0.911565</td>\n",
       "      <td>0.000000</td>\n",
       "      <td>0.928571</td>\n",
       "      <td>0.911565</td>\n",
       "      <td>0.921769</td>\n",
       "      <td>0.928571</td>\n",
       "      <td>0.931973</td>\n",
       "      <td>0.931973</td>\n",
       "      <td>0.935374</td>\n",
       "      <td>0.928571</td>\n",
       "    </tr>\n",
       "    <tr>\n",
       "      <th>sp|P0AGJ9|</th>\n",
       "      <td>0.918919</td>\n",
       "      <td>0.939682</td>\n",
       "      <td>0.901961</td>\n",
       "      <td>0.903114</td>\n",
       "      <td>0.928571</td>\n",
       "      <td>0.000000</td>\n",
       "      <td>0.880309</td>\n",
       "      <td>0.249042</td>\n",
       "      <td>0.837838</td>\n",
       "      <td>0.915058</td>\n",
       "      <td>0.922780</td>\n",
       "      <td>0.907336</td>\n",
       "      <td>0.918919</td>\n",
       "    </tr>\n",
       "    <tr>\n",
       "      <th>sp|A7X3G2|</th>\n",
       "      <td>0.902724</td>\n",
       "      <td>0.930159</td>\n",
       "      <td>0.915033</td>\n",
       "      <td>0.913495</td>\n",
       "      <td>0.911565</td>\n",
       "      <td>0.880309</td>\n",
       "      <td>0.000000</td>\n",
       "      <td>0.881226</td>\n",
       "      <td>0.852140</td>\n",
       "      <td>0.910506</td>\n",
       "      <td>0.902724</td>\n",
       "      <td>0.894942</td>\n",
       "      <td>0.898833</td>\n",
       "    </tr>\n",
       "    <tr>\n",
       "      <th>sp|A9MEH2|</th>\n",
       "      <td>0.927203</td>\n",
       "      <td>0.946032</td>\n",
       "      <td>0.898693</td>\n",
       "      <td>0.906574</td>\n",
       "      <td>0.921769</td>\n",
       "      <td>0.249042</td>\n",
       "      <td>0.881226</td>\n",
       "      <td>0.000000</td>\n",
       "      <td>0.842912</td>\n",
       "      <td>0.919540</td>\n",
       "      <td>0.923372</td>\n",
       "      <td>0.908046</td>\n",
       "      <td>0.919540</td>\n",
       "    </tr>\n",
       "    <tr>\n",
       "      <th>sp|B5E3A7|</th>\n",
       "      <td>0.920949</td>\n",
       "      <td>0.939682</td>\n",
       "      <td>0.911765</td>\n",
       "      <td>0.913495</td>\n",
       "      <td>0.928571</td>\n",
       "      <td>0.837838</td>\n",
       "      <td>0.852140</td>\n",
       "      <td>0.842912</td>\n",
       "      <td>0.000000</td>\n",
       "      <td>0.913044</td>\n",
       "      <td>0.913044</td>\n",
       "      <td>0.909091</td>\n",
       "      <td>0.916996</td>\n",
       "    </tr>\n",
       "    <tr>\n",
       "      <th>sp|Q57834|</th>\n",
       "      <td>0.900000</td>\n",
       "      <td>0.933333</td>\n",
       "      <td>0.928105</td>\n",
       "      <td>0.923875</td>\n",
       "      <td>0.931973</td>\n",
       "      <td>0.915058</td>\n",
       "      <td>0.910506</td>\n",
       "      <td>0.919540</td>\n",
       "      <td>0.913044</td>\n",
       "      <td>0.000000</td>\n",
       "      <td>0.900000</td>\n",
       "      <td>0.887805</td>\n",
       "      <td>0.895652</td>\n",
       "    </tr>\n",
       "    <tr>\n",
       "      <th>sp|C4KJ87|</th>\n",
       "      <td>0.912500</td>\n",
       "      <td>0.949206</td>\n",
       "      <td>0.928105</td>\n",
       "      <td>0.923875</td>\n",
       "      <td>0.931973</td>\n",
       "      <td>0.922780</td>\n",
       "      <td>0.902724</td>\n",
       "      <td>0.923372</td>\n",
       "      <td>0.913044</td>\n",
       "      <td>0.900000</td>\n",
       "      <td>0.000000</td>\n",
       "      <td>0.872727</td>\n",
       "      <td>0.886957</td>\n",
       "    </tr>\n",
       "    <tr>\n",
       "      <th>sp|Q6L2J1|</th>\n",
       "      <td>0.887500</td>\n",
       "      <td>0.923809</td>\n",
       "      <td>0.924837</td>\n",
       "      <td>0.913495</td>\n",
       "      <td>0.935374</td>\n",
       "      <td>0.907336</td>\n",
       "      <td>0.894942</td>\n",
       "      <td>0.908046</td>\n",
       "      <td>0.909091</td>\n",
       "      <td>0.887805</td>\n",
       "      <td>0.872727</td>\n",
       "      <td>0.000000</td>\n",
       "      <td>0.891304</td>\n",
       "    </tr>\n",
       "    <tr>\n",
       "      <th>sp|Q74MD3|</th>\n",
       "      <td>0.900000</td>\n",
       "      <td>0.942857</td>\n",
       "      <td>0.921569</td>\n",
       "      <td>0.920415</td>\n",
       "      <td>0.928571</td>\n",
       "      <td>0.918919</td>\n",
       "      <td>0.898833</td>\n",
       "      <td>0.919540</td>\n",
       "      <td>0.916996</td>\n",
       "      <td>0.895652</td>\n",
       "      <td>0.886957</td>\n",
       "      <td>0.891304</td>\n",
       "      <td>0.000000</td>\n",
       "    </tr>\n",
       "  </tbody>\n",
       "</table>\n",
       "</div>"
      ],
      "text/plain": [
       "            sp|P36421|  sp|P54577|  sp|Q9M876|  sp|Q9Y2Z4|  sp|P48527|  \\\n",
       "sp|P36421|    0.000000    0.885714    0.928105    0.923875    0.942177   \n",
       "sp|P54577|    0.885714    0.000000    0.942857    0.933333    0.946032   \n",
       "sp|Q9M876|    0.928105    0.942857    0.000000    0.924837    0.911765   \n",
       "sp|Q9Y2Z4|    0.923875    0.933333    0.924837    0.000000    0.911565   \n",
       "sp|P48527|    0.942177    0.946032    0.911765    0.911565    0.000000   \n",
       "sp|P0AGJ9|    0.918919    0.939682    0.901961    0.903114    0.928571   \n",
       "sp|A7X3G2|    0.902724    0.930159    0.915033    0.913495    0.911565   \n",
       "sp|A9MEH2|    0.927203    0.946032    0.898693    0.906574    0.921769   \n",
       "sp|B5E3A7|    0.920949    0.939682    0.911765    0.913495    0.928571   \n",
       "sp|Q57834|    0.900000    0.933333    0.928105    0.923875    0.931973   \n",
       "sp|C4KJ87|    0.912500    0.949206    0.928105    0.923875    0.931973   \n",
       "sp|Q6L2J1|    0.887500    0.923809    0.924837    0.913495    0.935374   \n",
       "sp|Q74MD3|    0.900000    0.942857    0.921569    0.920415    0.928571   \n",
       "\n",
       "            sp|P0AGJ9|  sp|A7X3G2|  sp|A9MEH2|  sp|B5E3A7|  sp|Q57834|  \\\n",
       "sp|P36421|    0.918919    0.902724    0.927203    0.920949    0.900000   \n",
       "sp|P54577|    0.939682    0.930159    0.946032    0.939682    0.933333   \n",
       "sp|Q9M876|    0.901961    0.915033    0.898693    0.911765    0.928105   \n",
       "sp|Q9Y2Z4|    0.903114    0.913495    0.906574    0.913495    0.923875   \n",
       "sp|P48527|    0.928571    0.911565    0.921769    0.928571    0.931973   \n",
       "sp|P0AGJ9|    0.000000    0.880309    0.249042    0.837838    0.915058   \n",
       "sp|A7X3G2|    0.880309    0.000000    0.881226    0.852140    0.910506   \n",
       "sp|A9MEH2|    0.249042    0.881226    0.000000    0.842912    0.919540   \n",
       "sp|B5E3A7|    0.837838    0.852140    0.842912    0.000000    0.913044   \n",
       "sp|Q57834|    0.915058    0.910506    0.919540    0.913044    0.000000   \n",
       "sp|C4KJ87|    0.922780    0.902724    0.923372    0.913044    0.900000   \n",
       "sp|Q6L2J1|    0.907336    0.894942    0.908046    0.909091    0.887805   \n",
       "sp|Q74MD3|    0.918919    0.898833    0.919540    0.916996    0.895652   \n",
       "\n",
       "            sp|C4KJ87|  sp|Q6L2J1|  sp|Q74MD3|  \n",
       "sp|P36421|    0.912500    0.887500    0.900000  \n",
       "sp|P54577|    0.949206    0.923809    0.942857  \n",
       "sp|Q9M876|    0.928105    0.924837    0.921569  \n",
       "sp|Q9Y2Z4|    0.923875    0.913495    0.920415  \n",
       "sp|P48527|    0.931973    0.935374    0.928571  \n",
       "sp|P0AGJ9|    0.922780    0.907336    0.918919  \n",
       "sp|A7X3G2|    0.902724    0.894942    0.898833  \n",
       "sp|A9MEH2|    0.923372    0.908046    0.919540  \n",
       "sp|B5E3A7|    0.913044    0.909091    0.916996  \n",
       "sp|Q57834|    0.900000    0.887805    0.895652  \n",
       "sp|C4KJ87|    0.000000    0.872727    0.886957  \n",
       "sp|Q6L2J1|    0.872727    0.000000    0.891304  \n",
       "sp|Q74MD3|    0.886957    0.891304    0.000000  "
      ]
     },
     "execution_count": 52,
     "metadata": {},
     "output_type": "execute_result"
    }
   ],
   "source": [
    "# Create pandas dataframe table\n",
    "a.seek(0)\n",
    "data = pd.read_csv(a,sep=\"\\s+\",skiprows=[0],header=None,index_col=0)\n",
    "data.index.name = None\n",
    "data.columns = data.index # Make the first row (column names) the same as the indeces \n",
    "data"
   ]
  },
  {
   "cell_type": "code",
   "execution_count": 62,
   "metadata": {},
   "outputs": [
    {
     "data": {
      "text/plain": [
       "(13, 13)"
      ]
     },
     "execution_count": 62,
     "metadata": {},
     "output_type": "execute_result"
    }
   ],
   "source": [
    "temp = data.values\n",
    "temp.shape\n",
    "\n",
    "\n",
    "#pd.DataFrame(temp,index=data.index, columns=data.index)"
   ]
  },
  {
   "cell_type": "code",
   "execution_count": 63,
   "metadata": {},
   "outputs": [
    {
     "data": {
      "text/plain": [
       "array([[ 0.2862171 ,  0.04344643],\n",
       "       [ 0.26978471, -0.65123648],\n",
       "       [-0.52077447, -0.43517211],\n",
       "       [-0.29638295,  0.60742451],\n",
       "       [ 0.5730194 , -0.32796241],\n",
       "       [-0.07478643, -0.38342669],\n",
       "       [ 0.10112374,  0.59260315],\n",
       "       [-0.13714853, -0.46304113],\n",
       "       [-0.5439625 ,  0.26799651],\n",
       "       [ 0.45249955,  0.46717474],\n",
       "       [ 0.64422029,  0.10533019],\n",
       "       [-0.13377299,  0.23283348],\n",
       "       [-0.62003691, -0.05597019]])"
      ]
     },
     "execution_count": 63,
     "metadata": {},
     "output_type": "execute_result"
    }
   ],
   "source": [
    "\"\"\"Multidimensional Scaling (MDS)-- Metric and Nonmetric\"\"\"\n",
    "#np.matrix.shape(matrix)\n",
    "\n",
    "mds = MDS(random_state = 0, dissimilarity=\"precomputed\")\n",
    "euc_transform = mds.fit_transform(temp)\n",
    "euc_transform\n"
   ]
  },
  {
   "cell_type": "code",
   "execution_count": 64,
   "metadata": {},
   "outputs": [
    {
     "data": {
      "text/plain": [
       "['sp|P36421|SYYC_YEAST',\n",
       " 'sp|P54577|SYYC_HUMAN',\n",
       " 'sp|Q9M876|SYYM_ARATH',\n",
       " 'sp|Q9Y2Z4|SYYM_HUMAN',\n",
       " 'sp|P48527|SYYM_YEAST',\n",
       " 'sp|P0AGJ9|SYY_ECOLI',\n",
       " 'sp|A7X3G2|SYY_STAA1',\n",
       " 'sp|A9MEH2|SYY_SALAR',\n",
       " 'sp|B5E3A7|SYY_STRP4',\n",
       " 'sp|Q57834|SYY_METJA',\n",
       " 'sp|C4KJ87|SYY_SULIK',\n",
       " 'sp|Q6L2J1|SYY_PICTO',\n",
       " 'sp|Q74MD3|SYY_NANEQ']"
      ]
     },
     "execution_count": 64,
     "metadata": {},
     "output_type": "execute_result"
    }
   ],
   "source": [
    "seq_records.id_list"
   ]
  },
  {
   "cell_type": "code",
   "execution_count": 66,
   "metadata": {},
   "outputs": [
    {
     "data": {
      "text/html": [
       "<div>\n",
       "<style scoped>\n",
       "    .dataframe tbody tr th:only-of-type {\n",
       "        vertical-align: middle;\n",
       "    }\n",
       "\n",
       "    .dataframe tbody tr th {\n",
       "        vertical-align: top;\n",
       "    }\n",
       "\n",
       "    .dataframe thead th {\n",
       "        text-align: right;\n",
       "    }\n",
       "</style>\n",
       "<table border=\"1\" class=\"dataframe\">\n",
       "  <thead>\n",
       "    <tr style=\"text-align: right;\">\n",
       "      <th></th>\n",
       "      <th>PC1</th>\n",
       "      <th>PC2</th>\n",
       "    </tr>\n",
       "  </thead>\n",
       "  <tbody>\n",
       "    <tr>\n",
       "      <th>sp|P36421|SYYC_YEAST</th>\n",
       "      <td>0.286217</td>\n",
       "      <td>0.043446</td>\n",
       "    </tr>\n",
       "    <tr>\n",
       "      <th>sp|P54577|SYYC_HUMAN</th>\n",
       "      <td>0.269785</td>\n",
       "      <td>-0.651236</td>\n",
       "    </tr>\n",
       "    <tr>\n",
       "      <th>sp|Q9M876|SYYM_ARATH</th>\n",
       "      <td>-0.520774</td>\n",
       "      <td>-0.435172</td>\n",
       "    </tr>\n",
       "    <tr>\n",
       "      <th>sp|Q9Y2Z4|SYYM_HUMAN</th>\n",
       "      <td>-0.296383</td>\n",
       "      <td>0.607425</td>\n",
       "    </tr>\n",
       "    <tr>\n",
       "      <th>sp|P48527|SYYM_YEAST</th>\n",
       "      <td>0.573019</td>\n",
       "      <td>-0.327962</td>\n",
       "    </tr>\n",
       "    <tr>\n",
       "      <th>sp|P0AGJ9|SYY_ECOLI</th>\n",
       "      <td>-0.074786</td>\n",
       "      <td>-0.383427</td>\n",
       "    </tr>\n",
       "    <tr>\n",
       "      <th>sp|A7X3G2|SYY_STAA1</th>\n",
       "      <td>0.101124</td>\n",
       "      <td>0.592603</td>\n",
       "    </tr>\n",
       "    <tr>\n",
       "      <th>sp|A9MEH2|SYY_SALAR</th>\n",
       "      <td>-0.137149</td>\n",
       "      <td>-0.463041</td>\n",
       "    </tr>\n",
       "    <tr>\n",
       "      <th>sp|B5E3A7|SYY_STRP4</th>\n",
       "      <td>-0.543962</td>\n",
       "      <td>0.267997</td>\n",
       "    </tr>\n",
       "    <tr>\n",
       "      <th>sp|Q57834|SYY_METJA</th>\n",
       "      <td>0.452500</td>\n",
       "      <td>0.467175</td>\n",
       "    </tr>\n",
       "    <tr>\n",
       "      <th>sp|C4KJ87|SYY_SULIK</th>\n",
       "      <td>0.644220</td>\n",
       "      <td>0.105330</td>\n",
       "    </tr>\n",
       "    <tr>\n",
       "      <th>sp|Q6L2J1|SYY_PICTO</th>\n",
       "      <td>-0.133773</td>\n",
       "      <td>0.232833</td>\n",
       "    </tr>\n",
       "    <tr>\n",
       "      <th>sp|Q74MD3|SYY_NANEQ</th>\n",
       "      <td>-0.620037</td>\n",
       "      <td>-0.055970</td>\n",
       "    </tr>\n",
       "  </tbody>\n",
       "</table>\n",
       "</div>"
      ],
      "text/plain": [
       "                           PC1       PC2\n",
       "sp|P36421|SYYC_YEAST  0.286217  0.043446\n",
       "sp|P54577|SYYC_HUMAN  0.269785 -0.651236\n",
       "sp|Q9M876|SYYM_ARATH -0.520774 -0.435172\n",
       "sp|Q9Y2Z4|SYYM_HUMAN -0.296383  0.607425\n",
       "sp|P48527|SYYM_YEAST  0.573019 -0.327962\n",
       "sp|P0AGJ9|SYY_ECOLI  -0.074786 -0.383427\n",
       "sp|A7X3G2|SYY_STAA1   0.101124  0.592603\n",
       "sp|A9MEH2|SYY_SALAR  -0.137149 -0.463041\n",
       "sp|B5E3A7|SYY_STRP4  -0.543962  0.267997\n",
       "sp|Q57834|SYY_METJA   0.452500  0.467175\n",
       "sp|C4KJ87|SYY_SULIK   0.644220  0.105330\n",
       "sp|Q6L2J1|SYY_PICTO  -0.133773  0.232833\n",
       "sp|Q74MD3|SYY_NANEQ  -0.620037 -0.055970"
      ]
     },
     "execution_count": 66,
     "metadata": {},
     "output_type": "execute_result"
    }
   ],
   "source": [
    "# Create coordinates\n",
    "euc = pd.DataFrame(euc_transform, index=seq_records.id_list, columns = [\"PC1\", \"PC2\"])\n",
    "\n",
    "euc"
   ]
  },
  {
   "cell_type": "code",
   "execution_count": 67,
   "metadata": {},
   "outputs": [
    {
     "data": {
      "application/vnd.plotly.v1+json": {
       "config": {
        "plotlyServerURL": "https://plot.ly"
       },
       "data": [
        {
         "hovertemplate": "<b>%{hovertext}</b><br><br>PC1=%{x}<br>PC2=%{y}<extra></extra>",
         "hovertext": [
          "sp|P36421|SYYC_YEAST",
          "sp|P54577|SYYC_HUMAN",
          "sp|Q9M876|SYYM_ARATH",
          "sp|Q9Y2Z4|SYYM_HUMAN",
          "sp|P48527|SYYM_YEAST",
          "sp|P0AGJ9|SYY_ECOLI",
          "sp|A7X3G2|SYY_STAA1",
          "sp|A9MEH2|SYY_SALAR",
          "sp|B5E3A7|SYY_STRP4",
          "sp|Q57834|SYY_METJA",
          "sp|C4KJ87|SYY_SULIK",
          "sp|Q6L2J1|SYY_PICTO",
          "sp|Q74MD3|SYY_NANEQ"
         ],
         "legendgroup": "",
         "marker": {
          "color": "#636efa",
          "symbol": "circle"
         },
         "mode": "markers",
         "name": "",
         "orientation": "v",
         "showlegend": false,
         "type": "scatter",
         "x": [
          0.2862171040026802,
          0.26978470609461613,
          -0.5207744665325508,
          -0.2963829485206024,
          0.5730193963156853,
          -0.07478643034336704,
          0.10112373882900559,
          -0.137148530340058,
          -0.5439624993969987,
          0.4524995487943513,
          0.6442202866159421,
          -0.1337729913548304,
          -0.6200369141638733
         ],
         "xaxis": "x",
         "y": [
          0.04344643187427079,
          -0.651236480956885,
          -0.4351721096139441,
          0.6074245088261824,
          -0.3279624075184538,
          -0.38342669144312613,
          0.5926031549742129,
          -0.46304113392092855,
          0.2679965068548224,
          0.467174742257667,
          0.10533019338861478,
          0.23283347635580778,
          -0.05597019107824108
         ],
         "yaxis": "y"
        }
       ],
       "layout": {
        "legend": {
         "tracegroupgap": 0
        },
        "margin": {
         "t": 60
        },
        "template": {
         "data": {
          "bar": [
           {
            "error_x": {
             "color": "#2a3f5f"
            },
            "error_y": {
             "color": "#2a3f5f"
            },
            "marker": {
             "line": {
              "color": "#E5ECF6",
              "width": 0.5
             },
             "pattern": {
              "fillmode": "overlay",
              "size": 10,
              "solidity": 0.2
             }
            },
            "type": "bar"
           }
          ],
          "barpolar": [
           {
            "marker": {
             "line": {
              "color": "#E5ECF6",
              "width": 0.5
             },
             "pattern": {
              "fillmode": "overlay",
              "size": 10,
              "solidity": 0.2
             }
            },
            "type": "barpolar"
           }
          ],
          "carpet": [
           {
            "aaxis": {
             "endlinecolor": "#2a3f5f",
             "gridcolor": "white",
             "linecolor": "white",
             "minorgridcolor": "white",
             "startlinecolor": "#2a3f5f"
            },
            "baxis": {
             "endlinecolor": "#2a3f5f",
             "gridcolor": "white",
             "linecolor": "white",
             "minorgridcolor": "white",
             "startlinecolor": "#2a3f5f"
            },
            "type": "carpet"
           }
          ],
          "choropleth": [
           {
            "colorbar": {
             "outlinewidth": 0,
             "ticks": ""
            },
            "type": "choropleth"
           }
          ],
          "contour": [
           {
            "colorbar": {
             "outlinewidth": 0,
             "ticks": ""
            },
            "colorscale": [
             [
              0,
              "#0d0887"
             ],
             [
              0.1111111111111111,
              "#46039f"
             ],
             [
              0.2222222222222222,
              "#7201a8"
             ],
             [
              0.3333333333333333,
              "#9c179e"
             ],
             [
              0.4444444444444444,
              "#bd3786"
             ],
             [
              0.5555555555555556,
              "#d8576b"
             ],
             [
              0.6666666666666666,
              "#ed7953"
             ],
             [
              0.7777777777777778,
              "#fb9f3a"
             ],
             [
              0.8888888888888888,
              "#fdca26"
             ],
             [
              1,
              "#f0f921"
             ]
            ],
            "type": "contour"
           }
          ],
          "contourcarpet": [
           {
            "colorbar": {
             "outlinewidth": 0,
             "ticks": ""
            },
            "type": "contourcarpet"
           }
          ],
          "heatmap": [
           {
            "colorbar": {
             "outlinewidth": 0,
             "ticks": ""
            },
            "colorscale": [
             [
              0,
              "#0d0887"
             ],
             [
              0.1111111111111111,
              "#46039f"
             ],
             [
              0.2222222222222222,
              "#7201a8"
             ],
             [
              0.3333333333333333,
              "#9c179e"
             ],
             [
              0.4444444444444444,
              "#bd3786"
             ],
             [
              0.5555555555555556,
              "#d8576b"
             ],
             [
              0.6666666666666666,
              "#ed7953"
             ],
             [
              0.7777777777777778,
              "#fb9f3a"
             ],
             [
              0.8888888888888888,
              "#fdca26"
             ],
             [
              1,
              "#f0f921"
             ]
            ],
            "type": "heatmap"
           }
          ],
          "heatmapgl": [
           {
            "colorbar": {
             "outlinewidth": 0,
             "ticks": ""
            },
            "colorscale": [
             [
              0,
              "#0d0887"
             ],
             [
              0.1111111111111111,
              "#46039f"
             ],
             [
              0.2222222222222222,
              "#7201a8"
             ],
             [
              0.3333333333333333,
              "#9c179e"
             ],
             [
              0.4444444444444444,
              "#bd3786"
             ],
             [
              0.5555555555555556,
              "#d8576b"
             ],
             [
              0.6666666666666666,
              "#ed7953"
             ],
             [
              0.7777777777777778,
              "#fb9f3a"
             ],
             [
              0.8888888888888888,
              "#fdca26"
             ],
             [
              1,
              "#f0f921"
             ]
            ],
            "type": "heatmapgl"
           }
          ],
          "histogram": [
           {
            "marker": {
             "pattern": {
              "fillmode": "overlay",
              "size": 10,
              "solidity": 0.2
             }
            },
            "type": "histogram"
           }
          ],
          "histogram2d": [
           {
            "colorbar": {
             "outlinewidth": 0,
             "ticks": ""
            },
            "colorscale": [
             [
              0,
              "#0d0887"
             ],
             [
              0.1111111111111111,
              "#46039f"
             ],
             [
              0.2222222222222222,
              "#7201a8"
             ],
             [
              0.3333333333333333,
              "#9c179e"
             ],
             [
              0.4444444444444444,
              "#bd3786"
             ],
             [
              0.5555555555555556,
              "#d8576b"
             ],
             [
              0.6666666666666666,
              "#ed7953"
             ],
             [
              0.7777777777777778,
              "#fb9f3a"
             ],
             [
              0.8888888888888888,
              "#fdca26"
             ],
             [
              1,
              "#f0f921"
             ]
            ],
            "type": "histogram2d"
           }
          ],
          "histogram2dcontour": [
           {
            "colorbar": {
             "outlinewidth": 0,
             "ticks": ""
            },
            "colorscale": [
             [
              0,
              "#0d0887"
             ],
             [
              0.1111111111111111,
              "#46039f"
             ],
             [
              0.2222222222222222,
              "#7201a8"
             ],
             [
              0.3333333333333333,
              "#9c179e"
             ],
             [
              0.4444444444444444,
              "#bd3786"
             ],
             [
              0.5555555555555556,
              "#d8576b"
             ],
             [
              0.6666666666666666,
              "#ed7953"
             ],
             [
              0.7777777777777778,
              "#fb9f3a"
             ],
             [
              0.8888888888888888,
              "#fdca26"
             ],
             [
              1,
              "#f0f921"
             ]
            ],
            "type": "histogram2dcontour"
           }
          ],
          "mesh3d": [
           {
            "colorbar": {
             "outlinewidth": 0,
             "ticks": ""
            },
            "type": "mesh3d"
           }
          ],
          "parcoords": [
           {
            "line": {
             "colorbar": {
              "outlinewidth": 0,
              "ticks": ""
             }
            },
            "type": "parcoords"
           }
          ],
          "pie": [
           {
            "automargin": true,
            "type": "pie"
           }
          ],
          "scatter": [
           {
            "marker": {
             "colorbar": {
              "outlinewidth": 0,
              "ticks": ""
             }
            },
            "type": "scatter"
           }
          ],
          "scatter3d": [
           {
            "line": {
             "colorbar": {
              "outlinewidth": 0,
              "ticks": ""
             }
            },
            "marker": {
             "colorbar": {
              "outlinewidth": 0,
              "ticks": ""
             }
            },
            "type": "scatter3d"
           }
          ],
          "scattercarpet": [
           {
            "marker": {
             "colorbar": {
              "outlinewidth": 0,
              "ticks": ""
             }
            },
            "type": "scattercarpet"
           }
          ],
          "scattergeo": [
           {
            "marker": {
             "colorbar": {
              "outlinewidth": 0,
              "ticks": ""
             }
            },
            "type": "scattergeo"
           }
          ],
          "scattergl": [
           {
            "marker": {
             "colorbar": {
              "outlinewidth": 0,
              "ticks": ""
             }
            },
            "type": "scattergl"
           }
          ],
          "scattermapbox": [
           {
            "marker": {
             "colorbar": {
              "outlinewidth": 0,
              "ticks": ""
             }
            },
            "type": "scattermapbox"
           }
          ],
          "scatterpolar": [
           {
            "marker": {
             "colorbar": {
              "outlinewidth": 0,
              "ticks": ""
             }
            },
            "type": "scatterpolar"
           }
          ],
          "scatterpolargl": [
           {
            "marker": {
             "colorbar": {
              "outlinewidth": 0,
              "ticks": ""
             }
            },
            "type": "scatterpolargl"
           }
          ],
          "scatterternary": [
           {
            "marker": {
             "colorbar": {
              "outlinewidth": 0,
              "ticks": ""
             }
            },
            "type": "scatterternary"
           }
          ],
          "surface": [
           {
            "colorbar": {
             "outlinewidth": 0,
             "ticks": ""
            },
            "colorscale": [
             [
              0,
              "#0d0887"
             ],
             [
              0.1111111111111111,
              "#46039f"
             ],
             [
              0.2222222222222222,
              "#7201a8"
             ],
             [
              0.3333333333333333,
              "#9c179e"
             ],
             [
              0.4444444444444444,
              "#bd3786"
             ],
             [
              0.5555555555555556,
              "#d8576b"
             ],
             [
              0.6666666666666666,
              "#ed7953"
             ],
             [
              0.7777777777777778,
              "#fb9f3a"
             ],
             [
              0.8888888888888888,
              "#fdca26"
             ],
             [
              1,
              "#f0f921"
             ]
            ],
            "type": "surface"
           }
          ],
          "table": [
           {
            "cells": {
             "fill": {
              "color": "#EBF0F8"
             },
             "line": {
              "color": "white"
             }
            },
            "header": {
             "fill": {
              "color": "#C8D4E3"
             },
             "line": {
              "color": "white"
             }
            },
            "type": "table"
           }
          ]
         },
         "layout": {
          "annotationdefaults": {
           "arrowcolor": "#2a3f5f",
           "arrowhead": 0,
           "arrowwidth": 1
          },
          "autotypenumbers": "strict",
          "coloraxis": {
           "colorbar": {
            "outlinewidth": 0,
            "ticks": ""
           }
          },
          "colorscale": {
           "diverging": [
            [
             0,
             "#8e0152"
            ],
            [
             0.1,
             "#c51b7d"
            ],
            [
             0.2,
             "#de77ae"
            ],
            [
             0.3,
             "#f1b6da"
            ],
            [
             0.4,
             "#fde0ef"
            ],
            [
             0.5,
             "#f7f7f7"
            ],
            [
             0.6,
             "#e6f5d0"
            ],
            [
             0.7,
             "#b8e186"
            ],
            [
             0.8,
             "#7fbc41"
            ],
            [
             0.9,
             "#4d9221"
            ],
            [
             1,
             "#276419"
            ]
           ],
           "sequential": [
            [
             0,
             "#0d0887"
            ],
            [
             0.1111111111111111,
             "#46039f"
            ],
            [
             0.2222222222222222,
             "#7201a8"
            ],
            [
             0.3333333333333333,
             "#9c179e"
            ],
            [
             0.4444444444444444,
             "#bd3786"
            ],
            [
             0.5555555555555556,
             "#d8576b"
            ],
            [
             0.6666666666666666,
             "#ed7953"
            ],
            [
             0.7777777777777778,
             "#fb9f3a"
            ],
            [
             0.8888888888888888,
             "#fdca26"
            ],
            [
             1,
             "#f0f921"
            ]
           ],
           "sequentialminus": [
            [
             0,
             "#0d0887"
            ],
            [
             0.1111111111111111,
             "#46039f"
            ],
            [
             0.2222222222222222,
             "#7201a8"
            ],
            [
             0.3333333333333333,
             "#9c179e"
            ],
            [
             0.4444444444444444,
             "#bd3786"
            ],
            [
             0.5555555555555556,
             "#d8576b"
            ],
            [
             0.6666666666666666,
             "#ed7953"
            ],
            [
             0.7777777777777778,
             "#fb9f3a"
            ],
            [
             0.8888888888888888,
             "#fdca26"
            ],
            [
             1,
             "#f0f921"
            ]
           ]
          },
          "colorway": [
           "#636efa",
           "#EF553B",
           "#00cc96",
           "#ab63fa",
           "#FFA15A",
           "#19d3f3",
           "#FF6692",
           "#B6E880",
           "#FF97FF",
           "#FECB52"
          ],
          "font": {
           "color": "#2a3f5f"
          },
          "geo": {
           "bgcolor": "white",
           "lakecolor": "white",
           "landcolor": "#E5ECF6",
           "showlakes": true,
           "showland": true,
           "subunitcolor": "white"
          },
          "hoverlabel": {
           "align": "left"
          },
          "hovermode": "closest",
          "mapbox": {
           "style": "light"
          },
          "paper_bgcolor": "white",
          "plot_bgcolor": "#E5ECF6",
          "polar": {
           "angularaxis": {
            "gridcolor": "white",
            "linecolor": "white",
            "ticks": ""
           },
           "bgcolor": "#E5ECF6",
           "radialaxis": {
            "gridcolor": "white",
            "linecolor": "white",
            "ticks": ""
           }
          },
          "scene": {
           "xaxis": {
            "backgroundcolor": "#E5ECF6",
            "gridcolor": "white",
            "gridwidth": 2,
            "linecolor": "white",
            "showbackground": true,
            "ticks": "",
            "zerolinecolor": "white"
           },
           "yaxis": {
            "backgroundcolor": "#E5ECF6",
            "gridcolor": "white",
            "gridwidth": 2,
            "linecolor": "white",
            "showbackground": true,
            "ticks": "",
            "zerolinecolor": "white"
           },
           "zaxis": {
            "backgroundcolor": "#E5ECF6",
            "gridcolor": "white",
            "gridwidth": 2,
            "linecolor": "white",
            "showbackground": true,
            "ticks": "",
            "zerolinecolor": "white"
           }
          },
          "shapedefaults": {
           "line": {
            "color": "#2a3f5f"
           }
          },
          "ternary": {
           "aaxis": {
            "gridcolor": "white",
            "linecolor": "white",
            "ticks": ""
           },
           "baxis": {
            "gridcolor": "white",
            "linecolor": "white",
            "ticks": ""
           },
           "bgcolor": "#E5ECF6",
           "caxis": {
            "gridcolor": "white",
            "linecolor": "white",
            "ticks": ""
           }
          },
          "title": {
           "x": 0.05
          },
          "xaxis": {
           "automargin": true,
           "gridcolor": "white",
           "linecolor": "white",
           "ticks": "",
           "title": {
            "standoff": 15
           },
           "zerolinecolor": "white",
           "zerolinewidth": 2
          },
          "yaxis": {
           "automargin": true,
           "gridcolor": "white",
           "linecolor": "white",
           "ticks": "",
           "title": {
            "standoff": 15
           },
           "zerolinecolor": "white",
           "zerolinewidth": 2
          }
         }
        },
        "xaxis": {
         "anchor": "y",
         "domain": [
          0,
          1
         ],
         "title": {
          "text": "PC1"
         }
        },
        "yaxis": {
         "anchor": "x",
         "domain": [
          0,
          1
         ],
         "title": {
          "text": "PC2"
         }
        }
       }
      }
     },
     "metadata": {},
     "output_type": "display_data"
    }
   ],
   "source": [
    "\n",
    "\n",
    "px.scatter(euc, x=\"PC1\", y=\"PC2\",hover_name=euc.index)"
   ]
  },
  {
   "attachments": {},
   "cell_type": "markdown",
   "metadata": {},
   "source": [
    "\"\"\"(DONT) Hard-coding usable distance matrix\"\"\"\n",
    "\n",
    "\"\"\"Create upper traingle matrix first\"\"\"\n",
    "dim = len(euc_matrix.id_list)\n",
    "\n",
    "euc_dist = []\n",
    "for element in euc_matrix:\n",
    "   euc_dist.append(element[4])\n",
    "\n",
    "upper = []\n",
    "for i in range(dim):\n",
    "   row = []\n",
    "   for j in range (i+1):\n",
    "      row.append(0)\n",
    "   num = dim-len(row)\n",
    "   for k in range(num):\n",
    "      row.append(euc_dist[k])\n",
    "   del euc_dist[:num]\n",
    "\n",
    "   upper.append(row)\n",
    "    \n",
    "upper\n",
    "\n",
    "\"\"\"Create square matrix\"\"\"\n",
    "\n",
    "upper = np.array(upper)\n",
    "\n",
    "euc_reshaped = upper.T + upper\n",
    "\n",
    "print(euc_reshaped)\n",
    "\n"
   ]
  }
 ],
 "metadata": {
  "kernelspec": {
   "display_name": "alignfree",
   "language": "python",
   "name": "python3"
  },
  "language_info": {
   "codemirror_mode": {
    "name": "ipython",
    "version": 3
   },
   "file_extension": ".py",
   "mimetype": "text/x-python",
   "name": "python",
   "nbconvert_exporter": "python",
   "pygments_lexer": "ipython3",
   "version": "3.9.12"
  },
  "orig_nbformat": 4
 },
 "nbformat": 4,
 "nbformat_minor": 2
}
