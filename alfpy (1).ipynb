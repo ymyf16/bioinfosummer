{
 "cells": [
  {
   "cell_type": "code",
   "execution_count": 4,
   "metadata": {},
   "outputs": [],
   "source": [
    "from alfpy.utils import distmatrix\n",
    "from alfpy.utils import seqrecords\n",
    "from alfpy import ncd\n",
    "\n",
    "seq_records = seqrecords.SeqRecords()\n",
    "seq_records.add('seq1', 'MKSTGWHF')\n",
    "seq_records.add('seq2', 'MKSSSSTGWGWG')\n",
    "seq_records.add('seq3', 'MKSTLKNGTEQ')  \n",
    "\n",
    "dist = ncd.Distance(seq_records)\n",
    "matrix = distmatrix.create(seq_records.id_list, dist)\n"
   ]
  },
  {
   "cell_type": "code",
   "execution_count": 15,
   "metadata": {},
   "outputs": [
    {
     "name": "stdout",
     "output_type": "stream",
     "text": [
      "Help on Matrix in module alfpy.utils.distmatrix object:\n",
      "\n",
      "class Matrix(builtins.object)\n",
      " |  Matrix(id_list, data)\n",
      " |  \n",
      " |  Distance matrix\n",
      " |  \n",
      " |  Attributes:\n",
      " |      id_list (list): list of sequence identifiers\n",
      " |      data (ndarray): 2-D array of distance values between pairs of seqs\n",
      " |  \n",
      " |  Methods defined here:\n",
      " |  \n",
      " |  __init__(self, id_list, data)\n",
      " |      Example:\n",
      " |          >>> id_list = ['seq1', 'seq2', 'seq3']\n",
      " |          >>> data\n",
      " |          [[ 0.          0.3531587   0.35509333]\n",
      " |           [ 0.3531587   0.          0.295394  ]\n",
      " |           [ 0.35509333  0.295394    0.        ]]\n",
      " |          >>> matrix = Matrix(id_list, data)\n",
      " |  \n",
      " |  __iter__(self)\n",
      " |      Iterate over a distance matrix.\n",
      " |  \n",
      " |  __repr__(self)\n",
      " |      Return repr(self).\n",
      " |  \n",
      " |  display(self, f='phylip', decimal_places=7)\n",
      " |      Write a distance matrix to the screen.\n",
      " |  \n",
      " |  format(self, decimal_places=7)\n",
      " |  \n",
      " |  highcharts(self)\n",
      " |      Return a distance matrix as a list in the Highcharts format.\n",
      " |  \n",
      " |  is_zero(self)\n",
      " |      Return True if matrix contains only zeros\n",
      " |  \n",
      " |  max(self)\n",
      " |      Return maximum distance value in matrix\n",
      " |  \n",
      " |  min(self)\n",
      " |      Return minimum distance value in matrix\n",
      " |  \n",
      " |  normalize(self)\n",
      " |      Normalize distance values to 0-1 range.\n",
      " |  \n",
      " |  write_to_file(self, handle, f='phylip', decimal_places=7)\n",
      " |      Write a distance matrix to a file.\n",
      " |  \n",
      " |  writer(self, handle, f, decimal_places)\n",
      " |      Return a distance matrix as a string in `phylip` or `pairwise`\n",
      " |      formats.\n",
      " |      \n",
      " |      Args:\n",
      " |          handle : output file / sys.stdout\n",
      " |          f (str): phylip / pairwise\n",
      " |          decimal_places (int): round distance value to decimal places\n",
      " |  \n",
      " |  ----------------------------------------------------------------------\n",
      " |  Data descriptors defined here:\n",
      " |  \n",
      " |  __dict__\n",
      " |      dictionary for instance variables (if defined)\n",
      " |  \n",
      " |  __weakref__\n",
      " |      list of weak references to the object (if defined)\n",
      "\n"
     ]
    }
   ],
   "source": [
    "help(matrix)"
   ]
  },
  {
   "cell_type": "code",
   "execution_count": 17,
   "metadata": {},
   "outputs": [
    {
     "name": "stdout",
     "output_type": "stream",
     "text": [
      "   3\n",
      "seq1       0.0000000 0.4117647 0.4736842\n",
      "seq2       0.4117647 0.0000000 0.5789474\n",
      "seq3       0.4736842 0.5789474 0.0000000\n"
     ]
    }
   ],
   "source": [
    "matrix.display()"
   ]
  },
  {
   "cell_type": "code",
   "execution_count": 16,
   "metadata": {},
   "outputs": [
    {
     "data": {
      "text/plain": [
       "[[0, 1, 0.7112299465240641, 0.4117647058823529],\n",
       " [0, 2, 0.8181818181818181, 0.47368421052631576],\n",
       " [1, 2, 1.0, 0.5789473684210527]]"
      ]
     },
     "execution_count": 16,
     "metadata": {},
     "output_type": "execute_result"
    }
   ],
   "source": [
    "a = matrix.highcharts()\n",
    "a"
   ]
  },
  {
   "cell_type": "code",
   "execution_count": 20,
   "metadata": {},
   "outputs": [
    {
     "name": "stdout",
     "output_type": "stream",
     "text": [
      "   3\n",
      "seq1       0.0000000 0.7112299 0.8181818\n",
      "seq2       0.7112299 0.0000000 1.0000000\n",
      "seq3       0.8181818 1.0000000 0.0000000\n"
     ]
    }
   ],
   "source": [
    "matrix.normalize()\n",
    "matrix.display()"
   ]
  },
  {
   "cell_type": "code",
   "execution_count": 24,
   "metadata": {},
   "outputs": [],
   "source": []
  },
  {
   "cell_type": "code",
   "execution_count": 25,
   "metadata": {},
   "outputs": [
    {
     "ename": "AttributeError",
     "evalue": "'str' object has no attribute 'write'",
     "output_type": "error",
     "traceback": [
      "\u001b[0;31m---------------------------------------------------------------------------\u001b[0m",
      "\u001b[0;31mAttributeError\u001b[0m                            Traceback (most recent call last)",
      "\u001b[1;32m/Users/ac044747/Dropbox/RealWork/Yufei/alfpy.ipynb Cell 7\u001b[0m in \u001b[0;36m<cell line: 1>\u001b[0;34m()\u001b[0m\n\u001b[0;32m----> <a href='vscode-notebook-cell:/Users/ac044747/Dropbox/RealWork/Yufei/alfpy.ipynb#W4sZmlsZQ%3D%3D?line=0'>1</a>\u001b[0m matrix\u001b[39m.\u001b[39;49mwriter(a, \u001b[39m'\u001b[39;49m\u001b[39mpairwise\u001b[39;49m\u001b[39m'\u001b[39;49m, \u001b[39m7\u001b[39;49m)\n",
      "File \u001b[0;32m~/opt/anaconda3/envs/streamlit/lib/python3.9/site-packages/alfpy/utils/distmatrix.py:119\u001b[0m, in \u001b[0;36mMatrix.writer\u001b[0;34m(self, handle, f, decimal_places)\u001b[0m\n\u001b[1;32m    117\u001b[0m \u001b[39melif\u001b[39;00m f \u001b[39m==\u001b[39m \u001b[39m'\u001b[39m\u001b[39mpairwise\u001b[39m\u001b[39m'\u001b[39m:\n\u001b[1;32m    118\u001b[0m     \u001b[39mfor\u001b[39;00m _, _, seqid1, seqid2, distval \u001b[39min\u001b[39;00m \u001b[39mself\u001b[39m:\n\u001b[0;32m--> 119\u001b[0m         handle\u001b[39m.\u001b[39;49mwrite(\u001b[39m\"\u001b[39m\u001b[39m{0}\u001b[39;00m\u001b[39m\\t\u001b[39;00m\u001b[39m{1}\u001b[39;00m\u001b[39m\\t\u001b[39;00m\u001b[39m{\u001b[39m\u001b[39m2:.\u001b[39m\u001b[39m{3}\u001b[39;00m\u001b[39mf}\u001b[39m\u001b[39m\\n\u001b[39;00m\u001b[39m\"\u001b[39m\u001b[39m.\u001b[39mformat(seqid1, seqid2,\n\u001b[1;32m    120\u001b[0m                                                     distval,\n\u001b[1;32m    121\u001b[0m                                                     decimal_places))\n",
      "\u001b[0;31mAttributeError\u001b[0m: 'str' object has no attribute 'write'"
     ]
    }
   ],
   "source": [
    "matrix.writer(a, 'pairwise', 7)"
   ]
  },
  {
   "cell_type": "code",
   "execution_count": 26,
   "metadata": {},
   "outputs": [
    {
     "name": "stdout",
     "output_type": "stream",
     "text": [
      "   3\n",
      "seq1       0.0000000 0.7112299 0.8181818\n",
      "seq2       0.7112299 0.0000000 1.0000000\n",
      "seq3       0.8181818 1.0000000 0.0000000\n"
     ]
    }
   ],
   "source": [
    "matrix.display()"
   ]
  },
  {
   "cell_type": "code",
   "execution_count": 27,
   "metadata": {},
   "outputs": [
    {
     "name": "stdout",
     "output_type": "stream",
     "text": [
      "   3\n",
      "seq1       0.0000000 0.7112299 0.8181818\n",
      "seq2       0.7112299 0.0000000 1.0000000\n",
      "seq3       0.8181818 1.0000000 0.0000000\n"
     ]
    }
   ],
   "source": [
    "a = matrix.display()"
   ]
  },
  {
   "cell_type": "code",
   "execution_count": 55,
   "metadata": {},
   "outputs": [],
   "source": [
    "import io\n",
    "\n",
    "a = io.StringIO()"
   ]
  },
  {
   "cell_type": "code",
   "execution_count": 56,
   "metadata": {},
   "outputs": [],
   "source": [
    "matrix.writer(a, 'phylip', 7)"
   ]
  },
  {
   "cell_type": "code",
   "execution_count": 60,
   "metadata": {},
   "outputs": [
    {
     "data": {
      "text/plain": [
       "'   3\\nseq1       0.0000000 0.7112299 0.8181818\\nseq2       0.7112299 0.0000000 1.0000000\\nseq3       0.8181818 1.0000000 0.0000000\\n'"
      ]
     },
     "execution_count": 60,
     "metadata": {},
     "output_type": "execute_result"
    }
   ],
   "source": [
    "a.seek(0)\n",
    "a.read()\n"
   ]
  },
  {
   "cell_type": "code",
   "execution_count": 72,
   "metadata": {},
   "outputs": [
    {
     "name": "stderr",
     "output_type": "stream",
     "text": [
      "/var/folders/yl/1prc755j381357z7mbt63w2c0000gp/T/ipykernel_38752/2959782491.py:3: ParserWarning: Falling back to the 'python' engine because the 'c' engine does not support regex separators (separators > 1 char and different from '\\s+' are interpreted as regex); you can avoid this warning by specifying engine='python'.\n",
      "  data = pd.read_csv(a,sep=\" +\",skiprows=[0],header=None,index_col=0)\n"
     ]
    },
    {
     "data": {
      "text/html": [
       "<div>\n",
       "<style scoped>\n",
       "    .dataframe tbody tr th:only-of-type {\n",
       "        vertical-align: middle;\n",
       "    }\n",
       "\n",
       "    .dataframe tbody tr th {\n",
       "        vertical-align: top;\n",
       "    }\n",
       "\n",
       "    .dataframe thead th {\n",
       "        text-align: right;\n",
       "    }\n",
       "</style>\n",
       "<table border=\"1\" class=\"dataframe\">\n",
       "  <thead>\n",
       "    <tr style=\"text-align: right;\">\n",
       "      <th></th>\n",
       "      <th>seq1</th>\n",
       "      <th>seq2</th>\n",
       "      <th>seq3</th>\n",
       "    </tr>\n",
       "  </thead>\n",
       "  <tbody>\n",
       "    <tr>\n",
       "      <th>seq1</th>\n",
       "      <td>0.000000</td>\n",
       "      <td>0.71123</td>\n",
       "      <td>0.818182</td>\n",
       "    </tr>\n",
       "    <tr>\n",
       "      <th>seq2</th>\n",
       "      <td>0.711230</td>\n",
       "      <td>0.00000</td>\n",
       "      <td>1.000000</td>\n",
       "    </tr>\n",
       "    <tr>\n",
       "      <th>seq3</th>\n",
       "      <td>0.818182</td>\n",
       "      <td>1.00000</td>\n",
       "      <td>0.000000</td>\n",
       "    </tr>\n",
       "  </tbody>\n",
       "</table>\n",
       "</div>"
      ],
      "text/plain": [
       "          seq1     seq2      seq3\n",
       "seq1  0.000000  0.71123  0.818182\n",
       "seq2  0.711230  0.00000  1.000000\n",
       "seq3  0.818182  1.00000  0.000000"
      ]
     },
     "execution_count": 72,
     "metadata": {},
     "output_type": "execute_result"
    }
   ],
   "source": [
    "import pandas as pd\n",
    "a.seek(0)\n",
    "data = pd.read_csv(a,sep=\" +\",skiprows=[0],header=None,index_col=0)\n",
    "data.index.name = None\n",
    "data.columns = data.index\n",
    "data"
   ]
  },
  {
   "cell_type": "code",
   "execution_count": 73,
   "metadata": {},
   "outputs": [
    {
     "data": {
      "text/plain": [
       "array([[0.       , 0.7112299, 0.8181818],\n",
       "       [0.7112299, 0.       , 1.       ],\n",
       "       [0.8181818, 1.       , 0.       ]])"
      ]
     },
     "execution_count": 73,
     "metadata": {},
     "output_type": "execute_result"
    }
   ],
   "source": [
    "data.values"
   ]
  },
  {
   "cell_type": "code",
   "execution_count": 74,
   "metadata": {},
   "outputs": [
    {
     "data": {
      "text/plain": [
       "array([[0.       , 0.7112299, 0.8181818],\n",
       "       [0.7112299, 0.       , 1.       ],\n",
       "       [0.8181818, 1.       , 0.       ]])"
      ]
     },
     "execution_count": 74,
     "metadata": {},
     "output_type": "execute_result"
    }
   ],
   "source": [
    "temp = data.values\n",
    "temp"
   ]
  },
  {
   "cell_type": "code",
   "execution_count": 76,
   "metadata": {},
   "outputs": [
    {
     "data": {
      "text/plain": [
       "(3, 3)"
      ]
     },
     "execution_count": 76,
     "metadata": {},
     "output_type": "execute_result"
    }
   ],
   "source": [
    "temp.shape"
   ]
  },
  {
   "cell_type": "code",
   "execution_count": 77,
   "metadata": {},
   "outputs": [
    {
     "data": {
      "text/html": [
       "<div>\n",
       "<style scoped>\n",
       "    .dataframe tbody tr th:only-of-type {\n",
       "        vertical-align: middle;\n",
       "    }\n",
       "\n",
       "    .dataframe tbody tr th {\n",
       "        vertical-align: top;\n",
       "    }\n",
       "\n",
       "    .dataframe thead th {\n",
       "        text-align: right;\n",
       "    }\n",
       "</style>\n",
       "<table border=\"1\" class=\"dataframe\">\n",
       "  <thead>\n",
       "    <tr style=\"text-align: right;\">\n",
       "      <th></th>\n",
       "      <th>seq1</th>\n",
       "      <th>seq2</th>\n",
       "      <th>seq3</th>\n",
       "    </tr>\n",
       "  </thead>\n",
       "  <tbody>\n",
       "    <tr>\n",
       "      <th>seq1</th>\n",
       "      <td>0.000000</td>\n",
       "      <td>0.71123</td>\n",
       "      <td>0.818182</td>\n",
       "    </tr>\n",
       "    <tr>\n",
       "      <th>seq2</th>\n",
       "      <td>0.711230</td>\n",
       "      <td>0.00000</td>\n",
       "      <td>1.000000</td>\n",
       "    </tr>\n",
       "    <tr>\n",
       "      <th>seq3</th>\n",
       "      <td>0.818182</td>\n",
       "      <td>1.00000</td>\n",
       "      <td>0.000000</td>\n",
       "    </tr>\n",
       "  </tbody>\n",
       "</table>\n",
       "</div>"
      ],
      "text/plain": [
       "          seq1     seq2      seq3\n",
       "seq1  0.000000  0.71123  0.818182\n",
       "seq2  0.711230  0.00000  1.000000\n",
       "seq3  0.818182  1.00000  0.000000"
      ]
     },
     "execution_count": 77,
     "metadata": {},
     "output_type": "execute_result"
    }
   ],
   "source": [
    "pd.DataFrame(temp,index=data.index, columns=data.index)"
   ]
  },
  {
   "cell_type": "code",
   "execution_count": null,
   "metadata": {},
   "outputs": [],
   "source": []
  }
 ],
 "metadata": {
  "kernelspec": {
   "display_name": "streamlit",
   "language": "python",
   "name": "python3"
  },
  "language_info": {
   "codemirror_mode": {
    "name": "ipython",
    "version": 3
   },
   "file_extension": ".py",
   "mimetype": "text/x-python",
   "name": "python",
   "nbconvert_exporter": "python",
   "pygments_lexer": "ipython3",
   "version": "3.9.13"
  },
  "orig_nbformat": 4
 },
 "nbformat": 4,
 "nbformat_minor": 2
}
